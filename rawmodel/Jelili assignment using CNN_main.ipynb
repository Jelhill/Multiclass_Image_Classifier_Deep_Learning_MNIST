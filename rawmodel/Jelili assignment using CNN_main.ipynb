{
 "cells": [
  {
   "cell_type": "markdown",
   "metadata": {},
   "source": [
    "# Loading the training and test dataset"
   ]
  },
  {
   "cell_type": "code",
   "execution_count": 1,
   "metadata": {},
   "outputs": [],
   "source": [
    "import tensorflow as tf\n",
    "from matplotlib import pyplot as plt\n",
    "import numpy as np\n",
    "from keras.datasets import mnist\n",
    "\n",
    "(training_dataset_x, training_dataset_y), (test_dataset_x, test_dataset_y) = mnist.load_data()\n",
    "\n"
   ]
  },
  {
   "cell_type": "markdown",
   "metadata": {},
   "source": [
    "# showing first 9 images"
   ]
  },
  {
   "cell_type": "code",
   "execution_count": 2,
   "metadata": {},
   "outputs": [
    {
     "data": {
      "image/png": "[encoded data removed]",
      "text/plain": [
       "<Figure size 432x288 with 9 Axes>"
      ]
     },
     "metadata": {
      "needs_background": "light"
     },
     "output_type": "display_data"
    }
   ],
   "source": [
    "\n",
    "for i in range(9):\n",
    "\t# define subplot\n",
    "\tplt.subplot(330 + 1 + i)\n",
    "\t# plot raw pixel data\n",
    "\tplt.imshow(training_dataset_x[i])\n",
    "plt.savefig('data.png')"
   ]
  },
  {
   "cell_type": "markdown",
   "metadata": {},
   "source": [
    "# normalizing data"
   ]
  },
  {
   "cell_type": "code",
   "execution_count": 3,
   "metadata": {},
   "outputs": [],
   "source": [
    "training_dataset_x = training_dataset_x.reshape(-1, 28, 28, 1)\n",
    "test_dataset_x = test_dataset_x.reshape(-1, 28, 28, 1)\n",
    "\n",
    "training_dataset_x = training_dataset_x.astype('float32')\n",
    "test_dataset_x = test_dataset_x.astype('float32')\n",
    "#Min-Max Scaler\n",
    "training_dataset_x /= 255\n",
    "test_dataset_x /= 255"
   ]
  },
  {
   "cell_type": "markdown",
   "metadata": {},
   "source": [
    "# One-Hot Encoding our target variable"
   ]
  },
  {
   "cell_type": "code",
   "execution_count": 4,
   "metadata": {},
   "outputs": [],
   "source": [
    "#One-Hot Encoding\n",
    "from tensorflow.keras.utils import to_categorical\n",
    "\n",
    "training_dataset_y = to_categorical(training_dataset_y)\n",
    "test_dataset_y = to_categorical(test_dataset_y)"
   ]
  },
  {
   "cell_type": "code",
   "execution_count": 5,
   "metadata": {},
   "outputs": [
    {
     "name": "stdout",
     "output_type": "stream",
     "text": [
      "Model: \"sequential\"\n",
      "_________________________________________________________________\n",
      " Layer (type)                Output Shape              Param #   \n",
      "=================================================================\n",
      " Convolution-1 (Conv2D)      (None, 26, 26, 32)        320       \n",
      "                                                                 \n",
      " MaxPooling2D-1 (MaxPooling2  (None, 13, 13, 32)       0         \n",
      " D)                                                              \n",
      "                                                                 \n",
      " Convolution-2 (Conv2D)      (None, 11, 11, 64)        18496     \n",
      "                                                                 \n",
      " MaxPooling2D-2 (MaxPooling2  (None, 5, 5, 64)         0         \n",
      " D)                                                              \n",
      "                                                                 \n",
      " flatten (Flatten)           (None, 1600)              0         \n",
      "                                                                 \n",
      " Hidden-1 (Dense)            (None, 128)               204928    \n",
      "                                                                 \n",
      " Hidden-2 (Dense)            (None, 128)               16512     \n",
      "                                                                 \n",
      " Output (Dense)              (None, 10)                1290      \n",
      "                                                                 \n",
      "=================================================================\n",
      "Total params: 241,546\n",
      "Trainable params: 241,546\n",
      "Non-trainable params: 0\n",
      "_________________________________________________________________\n"
     ]
    }
   ],
   "source": [
    "from keras.models import Sequential\n",
    "from keras.layers import Conv2D, Dense, Flatten\n",
    "\n",
    "from keras.models import Sequential\n",
    "from keras.layers import Conv2D, Dense, MaxPooling2D, Flatten \n",
    "\n",
    "model = Sequential()\n",
    "#adding first convolutional layer\n",
    "model.add(Conv2D(32, kernel_size=(3, 3), input_shape=(28, 28, 1), activation='relu', name='Convolution-1'))\n",
    "#adding first pooling layer\n",
    "model.add(MaxPooling2D(name='MaxPooling2D-1'))\n",
    "# adding second convolutional layer\n",
    "model.add(Conv2D(64, kernel_size=(3, 3), activation='relu', name='Convolution-2'))\n",
    "#adding first pooling layer\n",
    "model.add(MaxPooling2D(name='MaxPooling2D-2'))\n",
    "#flatten the model for input to the  fully connected layers\n",
    "model.add(Flatten())\n",
    "# adding and specificing neurons and  hidden layers for fully connected layers\n",
    "model.add(Dense(128, activation='relu', name='Hidden-1'))\n",
    "model.add(Dense(128, activation='relu', name='Hidden-2'))\n",
    "#adding output layers\n",
    "model.add(Dense(10, activation='softmax', name='Output'))\n",
    "\n",
    "model.summary()"
   ]
  },
  {
   "cell_type": "markdown",
   "metadata": {},
   "source": [
    "# Training"
   ]
  },
  {
   "cell_type": "code",
   "execution_count": 6,
   "metadata": {},
   "outputs": [
    {
     "name": "stdout",
     "output_type": "stream",
     "text": [
      "Epoch 1/5\n",
      "750/750 [==============================] - 27s 35ms/step - loss: 0.1967 - accuracy: 0.9384 - val_loss: 0.0636 - val_accuracy: 0.9810\n",
      "Epoch 2/5\n",
      "750/750 [==============================] - 26s 34ms/step - loss: 0.0525 - accuracy: 0.9835 - val_loss: 0.0857 - val_accuracy: 0.9740\n",
      "Epoch 3/5\n",
      "750/750 [==============================] - 38s 50ms/step - loss: 0.0362 - accuracy: 0.9880 - val_loss: 0.0480 - val_accuracy: 0.9858\n",
      "Epoch 4/5\n",
      "750/750 [==============================] - 37s 49ms/step - loss: 0.0286 - accuracy: 0.9909 - val_loss: 0.0410 - val_accuracy: 0.9882\n",
      "Epoch 5/5\n",
      "750/750 [==============================] - 51s 67ms/step - loss: 0.0218 - accuracy: 0.9933 - val_loss: 0.0361 - val_accuracy: 0.9896\n",
      "CPU times: user 5min 16s, sys: 44.1 s, total: 6min\n",
      "Wall time: 2min 57s\n"
     ]
    }
   ],
   "source": [
    "EPOCHS = 5\n",
    "BATCH_SIZE = 64\n",
    "model.compile(optimizer='adam', loss='categorical_crossentropy', metrics=['accuracy'])\n",
    "%time hist = model.fit(training_dataset_x, training_dataset_y, epochs=EPOCHS, batch_size=BATCH_SIZE, validation_split=0.2)"
   ]
  },
  {
   "cell_type": "markdown",
   "metadata": {},
   "source": [
    "# Evaluating on our test dataset"
   ]
  },
  {
   "cell_type": "code",
   "execution_count": 7,
   "metadata": {},
   "outputs": [
    {
     "name": "stdout",
     "output_type": "stream",
     "text": [
      "313/313 [==============================] - 2s 5ms/step - loss: 0.0295 - accuracy: 0.9902\n",
      "loss = 0.029482552781701088, accuracy = 0.9901999831199646\n"
     ]
    }
   ],
   "source": [
    "loss, accuracy = model.evaluate(test_dataset_x, test_dataset_y)\n",
    "print('loss = {}, accuracy = {}'.format(loss, accuracy))"
   ]
  },
  {
   "cell_type": "markdown",
   "metadata": {},
   "source": [
    "# Visualization "
   ]
  },
  {
   "cell_type": "code",
   "execution_count": 20,
   "metadata": {},
   "outputs": [
    {
     "data": {
      "image/png": "[encoded data removed]",
      "text/plain": [
       "<Figure size 432x288 with 1 Axes>"
      ]
     },
     "metadata": {
      "needs_background": "light"
     },
     "output_type": "display_data"
    }
   ],
   "source": [
    "\n",
    "import matplotlib.pyplot as plt\n",
    "\n",
    "plt.title('Epoch-Accuracy Graph')\n",
    "plt.xlabel = 'Epochs'\n",
    "plt.ylabel = 'Loss'\n",
    "plt.plot(range(1, len(hist.epoch) + 1), hist.history['accuracy'])\n",
    "plt.legend(['accuracy'])\n",
    "\n",
    "plt.savefig('validation.png')"
   ]
  },
  {
   "cell_type": "code",
   "execution_count": 28,
   "metadata": {},
   "outputs": [
    {
     "name": "stdout",
     "output_type": "stream",
     "text": [
      "training accuracy : 0.9933124780654907\n",
      "test accuracy : 0.9901999831199646\n"
     ]
    }
   ],
   "source": [
    "print('training accuracy :',hist.history['accuracy'][4])\n",
    "print('test accuracy :',accuracy)"
   ]
  },
  {
   "cell_type": "code",
   "execution_count": null,
   "metadata": {},
   "outputs": [],
   "source": []
  }
 ],
 "metadata": {
  "kernelspec": {
   "display_name": "Python 3",
   "language": "python",
   "name": "python3"
  },
  "language_info": {
   "codemirror_mode": {
    "name": "ipython",
    "version": 3
   },
   "file_extension": ".py",
   "mimetype": "text/x-python",
   "name": "python",
   "nbconvert_exporter": "python",
   "pygments_lexer": "ipython3",
   "version": "3.8.3"
  }
 },
 "nbformat": 4,
 "nbformat_minor": 4
}
